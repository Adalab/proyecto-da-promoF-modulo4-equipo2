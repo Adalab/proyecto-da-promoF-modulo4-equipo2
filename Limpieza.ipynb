{
 "cells": [
  {
   "cell_type": "code",
   "execution_count": 1,
   "metadata": {},
   "outputs": [],
   "source": [
    "import pandas as pd\n",
    "import seaborn as sns"
   ]
  },
  {
   "cell_type": "code",
   "execution_count": 2,
   "metadata": {},
   "outputs": [
    {
     "name": "stderr",
     "output_type": "stream",
     "text": [
      "/var/folders/0y/6c7tk79131b8wnpg6jzszg_m0000gn/T/ipykernel_12215/1112367269.py:1: DtypeWarning: Columns (1,2,5,13,14,15,16,20,21,26,30,32) have mixed types. Specify dtype option on import or set low_memory=False.\n",
      "  df=pd.read_csv('finanzas-hotel-bookings.csv', index_col=0)\n"
     ]
    }
   ],
   "source": [
    "df=pd.read_csv('finanzas-hotel-bookings.csv', index_col=0)"
   ]
  },
  {
   "cell_type": "code",
   "execution_count": 3,
   "metadata": {},
   "outputs": [
    {
     "data": {
      "text/plain": [
       "63040"
      ]
     },
     "execution_count": 3,
     "metadata": {},
     "output_type": "execute_result"
    }
   ],
   "source": [
    "df.duplicated().sum()"
   ]
  },
  {
   "cell_type": "code",
   "execution_count": 4,
   "metadata": {},
   "outputs": [],
   "source": [
    "df.drop_duplicates(inplace=True)"
   ]
  },
  {
   "cell_type": "code",
   "execution_count": 5,
   "metadata": {},
   "outputs": [
    {
     "data": {
      "text/plain": [
       "hotel                              1.528743\n",
       "is_canceled                        1.528743\n",
       "lead_time                          1.445297\n",
       "arrival_date_year                 46.574931\n",
       "arrival_date_month                 1.528743\n",
       "arrival_date_week_number          16.831196\n",
       "arrival_date_day_of_month          1.628045\n",
       "stays_in_weekend_nights            1.445297\n",
       "stays_in_week_nights               1.445297\n",
       "adults                             1.505378\n",
       "children                          42.916628\n",
       "babies                             1.502875\n",
       "meal                               1.528743\n",
       "country                           46.384673\n",
       "market_segment                    50.566186\n",
       "distribution_channel              12.765673\n",
       "is_repeated_guest                  5.711091\n",
       "previous_cancellations            37.273129\n",
       "previous_bookings_not_canceled     1.528743\n",
       "reserved_room_type                34.746364\n",
       "assigned_room_type                 1.528743\n",
       "booking_changes                    1.511219\n",
       "agent                             15.005382\n",
       "company                           96.788137\n",
       "days_in_waiting_list               1.528743\n",
       "customer_type                     22.468019\n",
       "adr                                1.528743\n",
       "required_car_parking_spaces        1.528743\n",
       "total_of_special_requests          1.528743\n",
       "reservation_status                 1.528743\n",
       "reservation_status_date           12.254145\n",
       "0                                 98.563048\n",
       "dtype: float64"
      ]
     },
     "execution_count": 5,
     "metadata": {},
     "output_type": "execute_result"
    }
   ],
   "source": [
    "df.isnull().sum()/df.shape[0]*100"
   ]
  },
  {
   "cell_type": "code",
   "execution_count": 6,
   "metadata": {},
   "outputs": [
    {
     "data": {
      "text/plain": [
       "(119837, 32)"
      ]
     },
     "execution_count": 6,
     "metadata": {},
     "output_type": "execute_result"
    }
   ],
   "source": [
    "df.shape"
   ]
  },
  {
   "cell_type": "code",
   "execution_count": 7,
   "metadata": {},
   "outputs": [],
   "source": [
    "df.drop(['0','company'],axis=1,inplace=True)"
   ]
  },
  {
   "cell_type": "code",
   "execution_count": 8,
   "metadata": {},
   "outputs": [],
   "source": [
    "columnas=df.columns.tolist()"
   ]
  },
  {
   "cell_type": "code",
   "execution_count": 9,
   "metadata": {},
   "outputs": [
    {
     "data": {
      "text/plain": [
       "(119837, 30)"
      ]
     },
     "execution_count": 9,
     "metadata": {},
     "output_type": "execute_result"
    }
   ],
   "source": [
    "df.shape"
   ]
  },
  {
   "cell_type": "code",
   "execution_count": 10,
   "metadata": {},
   "outputs": [],
   "source": [
    "for columna in columnas:\n",
    "# Suponiendo que 'variable' es la columna que quieres comprobar\n",
    "    columna_a_verificar = columna\n",
    "    # Obtener el conjunto de columnas sin incluir la columna a verificar\n",
    "    columnas_sin_variable = df.columns.difference([columna_a_verificar])\n",
    "    # Eliminar las filas donde solo la columna 'variable' tiene información\n",
    "    df = df.dropna(subset=columnas_sin_variable, how='all')"
   ]
  },
  {
   "cell_type": "code",
   "execution_count": 11,
   "metadata": {},
   "outputs": [],
   "source": [
    "df = df.dropna(subset='is_canceled')"
   ]
  },
  {
   "cell_type": "code",
   "execution_count": 12,
   "metadata": {},
   "outputs": [
    {
     "data": {
      "text/plain": [
       "(118005, 30)"
      ]
     },
     "execution_count": 12,
     "metadata": {},
     "output_type": "execute_result"
    }
   ],
   "source": [
    "df.shape"
   ]
  },
  {
   "cell_type": "code",
   "execution_count": 13,
   "metadata": {},
   "outputs": [
    {
     "name": "stdout",
     "output_type": "stream",
     "text": [
      "La columna hotel tiene un 0.0% de nulos\n"
     ]
    },
    {
     "data": {
      "text/plain": [
       "hotel\n",
       "City Hotel      78066\n",
       "Resort Hotel    39939\n",
       "Name: count, dtype: int64"
      ]
     },
     "metadata": {},
     "output_type": "display_data"
    },
    {
     "name": "stdout",
     "output_type": "stream",
     "text": [
      "--------------\n",
      "La columna is_canceled tiene un 0.0% de nulos\n"
     ]
    },
    {
     "data": {
      "text/plain": [
       "is_canceled\n",
       "False    74883\n",
       "True     43122\n",
       "Name: count, dtype: int64"
      ]
     },
     "metadata": {},
     "output_type": "display_data"
    },
    {
     "name": "stdout",
     "output_type": "stream",
     "text": [
      "--------------\n",
      "La columna lead_time tiene un 0.0% de nulos\n"
     ]
    },
    {
     "data": {
      "text/plain": [
       "lead_time\n",
       "0.0      6341\n",
       "1.0      3451\n",
       "2.0      2069\n",
       "3.0      1815\n",
       "4.0      1715\n",
       "         ... \n",
       "370.0       1\n",
       "709.0       1\n",
       "424.0       1\n",
       "737.0       1\n",
       "463.0       1\n",
       "Name: count, Length: 479, dtype: int64"
      ]
     },
     "metadata": {},
     "output_type": "display_data"
    },
    {
     "name": "stdout",
     "output_type": "stream",
     "text": [
      "--------------\n",
      "La columna arrival_date_year tiene un 45.75% de nulos\n"
     ]
    },
    {
     "data": {
      "text/plain": [
       "arrival_date_year\n",
       "2016.0    30461\n",
       "2017.0    21868\n",
       "2015.0    11694\n",
       "Name: count, dtype: int64"
      ]
     },
     "metadata": {},
     "output_type": "display_data"
    },
    {
     "name": "stdout",
     "output_type": "stream",
     "text": [
      "--------------\n",
      "La columna arrival_date_month tiene un 0.0% de nulos\n"
     ]
    },
    {
     "data": {
      "text/plain": [
       "arrival_date_month\n",
       "August       13751\n",
       "July         12556\n",
       "May          11637\n",
       "October      10984\n",
       "April        10955\n",
       "June         10789\n",
       "September    10338\n",
       "December      6707\n",
       "November      6660\n",
       "March         5886\n",
       "February      4841\n",
       "3             3861\n",
       "January       3558\n",
       "2             3140\n",
       "1             2342\n",
       "Name: count, dtype: int64"
      ]
     },
     "metadata": {},
     "output_type": "display_data"
    },
    {
     "name": "stdout",
     "output_type": "stream",
     "text": [
      "--------------\n",
      "La columna arrival_date_week_number tiene un 15.54% de nulos\n"
     ]
    },
    {
     "data": {
      "text/plain": [
       "arrival_date_week_number\n",
       "33.0    3009\n",
       "30.0    2576\n",
       "34.0    2564\n",
       "32.0    2550\n",
       "18.0    2477\n",
       "28.0    2383\n",
       "21.0    2368\n",
       "17.0    2315\n",
       "20.0    2311\n",
       "29.0    2306\n",
       "31.0    2292\n",
       "42.0    2269\n",
       "41.0    2241\n",
       "27.0    2226\n",
       "15.0    2205\n",
       "35.0    2196\n",
       "38.0    2194\n",
       "25.0    2182\n",
       "23.0    2178\n",
       "39.0    2163\n",
       "22.0    2123\n",
       "24.0    2087\n",
       "19.0    2023\n",
       "16.0    2023\n",
       "13.0    2015\n",
       "40.0    1998\n",
       "26.0    1986\n",
       "43.0    1969\n",
       "14.0    1898\n",
       "44.0    1887\n",
       "8.0     1828\n",
       "37.0    1820\n",
       "36.0    1810\n",
       "7.0     1789\n",
       "10.0    1787\n",
       "12.0    1755\n",
       "11.0    1750\n",
       "9.0     1743\n",
       "45.0    1606\n",
       "53.0    1538\n",
       "49.0    1461\n",
       "47.0    1437\n",
       "48.0    1284\n",
       "6.0     1282\n",
       "46.0    1275\n",
       "4.0     1255\n",
       "50.0    1231\n",
       "5.0     1176\n",
       "3.0     1112\n",
       "2.0     1019\n",
       "52.0     992\n",
       "1.0      894\n",
       "51.0     809\n",
       "Name: count, dtype: int64"
      ]
     },
     "metadata": {},
     "output_type": "display_data"
    },
    {
     "name": "stdout",
     "output_type": "stream",
     "text": [
      "--------------\n",
      "La columna arrival_date_day_of_month tiene un 0.1% de nulos\n"
     ]
    },
    {
     "data": {
      "text/plain": [
       "arrival_date_day_of_month\n",
       "17.0    4323\n",
       "5.0     4256\n",
       "15.0    4122\n",
       "25.0    4102\n",
       "26.0    4066\n",
       "12.0    4049\n",
       "9.0     4046\n",
       "16.0    4023\n",
       "2.0     4020\n",
       "19.0    3999\n",
       "20.0    3996\n",
       "18.0    3947\n",
       "24.0    3934\n",
       "28.0    3894\n",
       "8.0     3852\n",
       "3.0     3807\n",
       "30.0    3803\n",
       "6.0     3789\n",
       "27.0    3766\n",
       "14.0    3759\n",
       "21.0    3714\n",
       "4.0     3714\n",
       "13.0    3700\n",
       "23.0    3590\n",
       "11.0    3588\n",
       "7.0     3586\n",
       "22.0    3574\n",
       "1.0     3572\n",
       "29.0    3562\n",
       "10.0    3542\n",
       "31.0    2191\n",
       "Name: count, dtype: int64"
      ]
     },
     "metadata": {},
     "output_type": "display_data"
    },
    {
     "name": "stdout",
     "output_type": "stream",
     "text": [
      "--------------\n",
      "La columna stays_in_weekend_nights tiene un 0.0% de nulos\n"
     ]
    },
    {
     "data": {
      "text/plain": [
       "stays_in_weekend_nights\n",
       "0.0     51138\n",
       "2.0     33101\n",
       "1.0     30310\n",
       "4.0      1854\n",
       "3.0      1258\n",
       "6.0       153\n",
       "5.0        79\n",
       "8.0        60\n",
       "7.0        19\n",
       "9.0        11\n",
       "10.0        7\n",
       "12.0        5\n",
       "13.0        3\n",
       "16.0        3\n",
       "14.0        2\n",
       "18.0        1\n",
       "19.0        1\n",
       "Name: count, dtype: int64"
      ]
     },
     "metadata": {},
     "output_type": "display_data"
    },
    {
     "name": "stdout",
     "output_type": "stream",
     "text": [
      "--------------\n",
      "La columna stays_in_week_nights tiene un 0.0% de nulos\n"
     ]
    },
    {
     "data": {
      "text/plain": [
       "stays_in_week_nights\n",
       "2.0     33018\n",
       "1.0     30049\n",
       "3.0     21936\n",
       "5.0     11056\n",
       "4.0      9510\n",
       "0.0      7585\n",
       "6.0      1498\n",
       "10.0     1036\n",
       "7.0      1029\n",
       "8.0       655\n",
       "9.0       231\n",
       "15.0       85\n",
       "11.0       56\n",
       "19.0       44\n",
       "12.0       42\n",
       "20.0       41\n",
       "14.0       35\n",
       "13.0       27\n",
       "16.0       16\n",
       "21.0       15\n",
       "22.0        7\n",
       "25.0        6\n",
       "18.0        6\n",
       "30.0        5\n",
       "17.0        4\n",
       "24.0        3\n",
       "40.0        2\n",
       "33.0        1\n",
       "42.0        1\n",
       "50.0        1\n",
       "32.0        1\n",
       "26.0        1\n",
       "34.0        1\n",
       "35.0        1\n",
       "41.0        1\n",
       "Name: count, dtype: int64"
      ]
     },
     "metadata": {},
     "output_type": "display_data"
    },
    {
     "name": "stdout",
     "output_type": "stream",
     "text": [
      "--------------\n",
      "La columna adults tiene un 0.0% de nulos\n"
     ]
    },
    {
     "data": {
      "text/plain": [
       "adults\n",
       "2.0     81060\n",
       "1.0     20807\n",
       "3.0      5714\n",
       "59.0     1035\n",
       "54.0     1025\n",
       "51.0     1011\n",
       "58.0     1005\n",
       "50.0      999\n",
       "57.0      998\n",
       "53.0      984\n",
       "56.0      975\n",
       "55.0      959\n",
       "52.0      936\n",
       "0.0       369\n",
       "4.0        53\n",
       "19.0       13\n",
       "14.0       10\n",
       "12.0        7\n",
       "10.0        7\n",
       "11.0        6\n",
       "15.0        5\n",
       "26.0        5\n",
       "18.0        5\n",
       "16.0        5\n",
       "13.0        4\n",
       "27.0        2\n",
       "5.0         2\n",
       "20.0        2\n",
       "6.0         1\n",
       "17.0        1\n",
       "Name: count, dtype: int64"
      ]
     },
     "metadata": {},
     "output_type": "display_data"
    },
    {
     "name": "stdout",
     "output_type": "stream",
     "text": [
      "--------------\n",
      "La columna children tiene un 42.05% de nulos\n"
     ]
    },
    {
     "data": {
      "text/plain": [
       "children\n",
       "0.0     63332\n",
       "1.0      2797\n",
       "2.0      2138\n",
       "3.0        45\n",
       "18.0       12\n",
       "14.0       12\n",
       "10.0        9\n",
       "11.0        8\n",
       "15.0        7\n",
       "17.0        5\n",
       "13.0        5\n",
       "16.0        5\n",
       "19.0        3\n",
       "12.0        3\n",
       "Name: count, dtype: int64"
      ]
     },
     "metadata": {},
     "output_type": "display_data"
    },
    {
     "name": "stdout",
     "output_type": "stream",
     "text": [
      "--------------\n",
      "La columna babies tiene un 0.0% de nulos\n"
     ]
    },
    {
     "data": {
      "text/plain": [
       "babies\n",
       "0.0     117029\n",
       "1.0        900\n",
       "2.0         15\n",
       "16.0        11\n",
       "12.0        11\n",
       "10.0        11\n",
       "19.0         7\n",
       "18.0         5\n",
       "15.0         4\n",
       "11.0         4\n",
       "17.0         3\n",
       "13.0         3\n",
       "9.0          1\n",
       "14.0         1\n",
       "Name: count, dtype: int64"
      ]
     },
     "metadata": {},
     "output_type": "display_data"
    },
    {
     "name": "stdout",
     "output_type": "stream",
     "text": [
      "--------------\n",
      "La columna meal tiene un 0.0% de nulos\n"
     ]
    },
    {
     "data": {
      "text/plain": [
       "meal\n",
       "BB           91207\n",
       "HB           14229\n",
       "SC           10641\n",
       "Undefined     1148\n",
       "FB             780\n",
       "Name: count, dtype: int64"
      ]
     },
     "metadata": {},
     "output_type": "display_data"
    },
    {
     "name": "stdout",
     "output_type": "stream",
     "text": [
      "--------------\n",
      "La columna country tiene un 45.55% de nulos\n"
     ]
    },
    {
     "data": {
      "text/plain": [
       "country\n",
       "PRT    25903\n",
       "GBR     6570\n",
       "FRA     5745\n",
       "ESP     4697\n",
       "DEU     3928\n",
       "       ...  \n",
       "LIE        1\n",
       "NIC        1\n",
       "GGY        1\n",
       "FJI        1\n",
       "UMI        1\n",
       "Name: count, Length: 163, dtype: int64"
      ]
     },
     "metadata": {},
     "output_type": "display_data"
    },
    {
     "name": "stdout",
     "output_type": "stream",
     "text": [
      "--------------\n",
      "La columna market_segment tiene un 49.8% de nulos\n"
     ]
    },
    {
     "data": {
      "text/plain": [
       "market_segment\n",
       "Online TA        28313\n",
       "Offline TA/TO    11833\n",
       "Groups            9626\n",
       "Direct            6351\n",
       "Corporate         2635\n",
       "Complementary      363\n",
       "Aviation           118\n",
       "Undefined            1\n",
       "Name: count, dtype: int64"
      ]
     },
     "metadata": {},
     "output_type": "display_data"
    },
    {
     "name": "stdout",
     "output_type": "stream",
     "text": [
      "--------------\n",
      "La columna distribution_channel tiene un 11.41% de nulos\n"
     ]
    },
    {
     "data": {
      "text/plain": [
       "distribution_channel\n",
       "TA/TO        85534\n",
       "Direct       12960\n",
       "Corporate     5864\n",
       "GDS            176\n",
       "Undefined        5\n",
       "Name: count, dtype: int64"
      ]
     },
     "metadata": {},
     "output_type": "display_data"
    },
    {
     "name": "stdout",
     "output_type": "stream",
     "text": [
      "--------------\n",
      "La columna is_repeated_guest tiene un 4.25% de nulos\n"
     ]
    },
    {
     "data": {
      "text/plain": [
       "is_repeated_guest\n",
       "0.0    109363\n",
       "1.0      3630\n",
       "Name: count, dtype: int64"
      ]
     },
     "metadata": {},
     "output_type": "display_data"
    },
    {
     "name": "stdout",
     "output_type": "stream",
     "text": [
      "--------------\n",
      "La columna previous_cancellations tiene un 36.32% de nulos\n"
     ]
    },
    {
     "data": {
      "text/plain": [
       "previous_cancellations\n",
       "0.0     71134\n",
       "1.0      3664\n",
       "2.0        76\n",
       "3.0        40\n",
       "11.0       34\n",
       "24.0       32\n",
       "4.0        20\n",
       "19.0       19\n",
       "13.0       17\n",
       "14.0       16\n",
       "25.0       16\n",
       "26.0       16\n",
       "5.0        14\n",
       "6.0        12\n",
       "17.0        7\n",
       "12.0        7\n",
       "18.0        6\n",
       "16.0        5\n",
       "10.0        5\n",
       "15.0        5\n",
       "21.0        1\n",
       "Name: count, dtype: int64"
      ]
     },
     "metadata": {},
     "output_type": "display_data"
    },
    {
     "name": "stdout",
     "output_type": "stream",
     "text": [
      "--------------\n",
      "La columna previous_bookings_not_canceled tiene un 0.0% de nulos\n"
     ]
    },
    {
     "data": {
      "text/plain": [
       "previous_bookings_not_canceled\n",
       "0.0     114385\n",
       "1.0       1542\n",
       "2.0        580\n",
       "3.0        333\n",
       "4.0        229\n",
       "         ...  \n",
       "47.0         1\n",
       "49.0         1\n",
       "50.0         1\n",
       "51.0         1\n",
       "72.0         1\n",
       "Name: count, Length: 73, dtype: int64"
      ]
     },
     "metadata": {},
     "output_type": "display_data"
    },
    {
     "name": "stdout",
     "output_type": "stream",
     "text": [
      "--------------\n",
      "La columna reserved_room_type tiene un 33.73% de nulos\n"
     ]
    },
    {
     "data": {
      "text/plain": [
       "reserved_room_type\n",
       "A    56144\n",
       "D    12619\n",
       "E     4344\n",
       "F     1907\n",
       "G     1375\n",
       "B      746\n",
       "C      625\n",
       "H      428\n",
       "P        6\n",
       "L        4\n",
       "Name: count, dtype: int64"
      ]
     },
     "metadata": {},
     "output_type": "display_data"
    },
    {
     "name": "stdout",
     "output_type": "stream",
     "text": [
      "--------------\n",
      "La columna assigned_room_type tiene un 0.0% de nulos\n"
     ]
    },
    {
     "data": {
      "text/plain": [
       "assigned_room_type\n",
       "A    72716\n",
       "D    25280\n",
       "E     7803\n",
       "F     3750\n",
       "G     2553\n",
       "C     2374\n",
       "B     2162\n",
       "H      712\n",
       "I      363\n",
       "K      279\n",
       "P       12\n",
       "L        1\n",
       "Name: count, dtype: int64"
      ]
     },
     "metadata": {},
     "output_type": "display_data"
    },
    {
     "name": "stdout",
     "output_type": "stream",
     "text": [
      "--------------\n",
      "La columna booking_changes tiene un 0.0% de nulos\n"
     ]
    },
    {
     "data": {
      "text/plain": [
       "booking_changes\n",
       "0.0     99905\n",
       "1.0     12660\n",
       "2.0      3798\n",
       "3.0       927\n",
       "4.0       376\n",
       "5.0       118\n",
       "6.0        63\n",
       "7.0        31\n",
       "8.0        17\n",
       "10.0       15\n",
       "17.0       14\n",
       "15.0       12\n",
       "11.0       11\n",
       "16.0       10\n",
       "12.0       10\n",
       "13.0       10\n",
       "14.0        8\n",
       "9.0         8\n",
       "19.0        6\n",
       "18.0        4\n",
       "20.0        1\n",
       "21.0        1\n",
       "Name: count, dtype: int64"
      ]
     },
     "metadata": {},
     "output_type": "display_data"
    },
    {
     "name": "stdout",
     "output_type": "stream",
     "text": [
      "--------------\n",
      "La columna agent tiene un 13.69% de nulos\n"
     ]
    },
    {
     "data": {
      "text/plain": [
       "agent\n",
       "9.0      31937\n",
       "240.0    13916\n",
       "1.0       6900\n",
       "14.0      3639\n",
       "7.0       3539\n",
       "         ...  \n",
       "289.0        1\n",
       "432.0        1\n",
       "265.0        1\n",
       "93.0         1\n",
       "304.0        1\n",
       "Name: count, Length: 333, dtype: int64"
      ]
     },
     "metadata": {},
     "output_type": "display_data"
    },
    {
     "name": "stdout",
     "output_type": "stream",
     "text": [
      "--------------\n",
      "La columna days_in_waiting_list tiene un 0.0% de nulos\n"
     ]
    },
    {
     "data": {
      "text/plain": [
       "days_in_waiting_list\n",
       "0.0      114452\n",
       "39.0        209\n",
       "58.0        152\n",
       "44.0        137\n",
       "31.0        111\n",
       "          ...  \n",
       "116.0         1\n",
       "109.0         1\n",
       "37.0          1\n",
       "89.0          1\n",
       "36.0          1\n",
       "Name: count, Length: 128, dtype: int64"
      ]
     },
     "metadata": {},
     "output_type": "display_data"
    },
    {
     "name": "stdout",
     "output_type": "stream",
     "text": [
      "--------------\n",
      "La columna customer_type tiene un 21.26% de nulos\n"
     ]
    },
    {
     "data": {
      "text/plain": [
       "customer_type\n",
       "Transient          69800\n",
       "Transient-Party    19406\n",
       "Contract            3246\n",
       "Group                460\n",
       "Name: count, dtype: int64"
      ]
     },
     "metadata": {},
     "output_type": "display_data"
    },
    {
     "name": "stdout",
     "output_type": "stream",
     "text": [
      "--------------\n",
      "La columna adr tiene un 0.0% de nulos\n"
     ]
    },
    {
     "data": {
      "text/plain": [
       "adr\n",
       "62.00     3566\n",
       "75.00     2626\n",
       "90.00     2404\n",
       "65.00     2383\n",
       "0.00      1957\n",
       "          ... \n",
       "89.43        1\n",
       "63.07        1\n",
       "55.69        1\n",
       "49.51        1\n",
       "157.71       1\n",
       "Name: count, Length: 8879, dtype: int64"
      ]
     },
     "metadata": {},
     "output_type": "display_data"
    },
    {
     "name": "stdout",
     "output_type": "stream",
     "text": [
      "--------------\n",
      "La columna required_car_parking_spaces tiene un 0.0% de nulos\n"
     ]
    },
    {
     "data": {
      "text/plain": [
       "required_car_parking_spaces\n",
       "0.0    110589\n",
       "1.0      7383\n",
       "2.0        28\n",
       "3.0         3\n",
       "8.0         2\n",
       "Name: count, dtype: int64"
      ]
     },
     "metadata": {},
     "output_type": "display_data"
    },
    {
     "name": "stdout",
     "output_type": "stream",
     "text": [
      "--------------\n",
      "La columna total_of_special_requests tiene un 0.0% de nulos\n"
     ]
    },
    {
     "data": {
      "text/plain": [
       "total_of_special_requests\n",
       "0.0    69033\n",
       "1.0    33136\n",
       "2.0    12961\n",
       "3.0     2495\n",
       "4.0      340\n",
       "5.0       40\n",
       "Name: count, dtype: int64"
      ]
     },
     "metadata": {},
     "output_type": "display_data"
    },
    {
     "name": "stdout",
     "output_type": "stream",
     "text": [
      "--------------\n",
      "La columna reservation_status tiene un 0.0% de nulos\n"
     ]
    },
    {
     "data": {
      "text/plain": [
       "reservation_status\n",
       "Check-Out    74883\n",
       "Canceled     41918\n",
       "No-Show       1204\n",
       "Name: count, dtype: int64"
      ]
     },
     "metadata": {},
     "output_type": "display_data"
    },
    {
     "name": "stdout",
     "output_type": "stream",
     "text": [
      "--------------\n",
      "La columna reservation_status_date tiene un 10.9% de nulos\n"
     ]
    },
    {
     "data": {
      "text/plain": [
       "reservation_status_date\n",
       "2015-10-21 00:00:00    1232\n",
       "2015-07-06 00:00:00     667\n",
       "2016-11-25 00:00:00     651\n",
       "2015-01-01 00:00:00     638\n",
       "2016-01-18 00:00:00     518\n",
       "                       ... \n",
       "2015-02-09 00:00:00       1\n",
       "2015-03-29 00:00:00       1\n",
       "2024-09-31                1\n",
       "2015-03-13 00:00:00       1\n",
       "2027-09-31                1\n",
       "Name: count, Length: 976, dtype: int64"
      ]
     },
     "metadata": {},
     "output_type": "display_data"
    },
    {
     "name": "stdout",
     "output_type": "stream",
     "text": [
      "--------------\n"
     ]
    }
   ],
   "source": [
    "for columna in columnas:\n",
    "    print(f'La columna {columna} tiene un {round(df[columna].isnull().sum()/df.shape[0]*100,2)}% de nulos')\n",
    "    display(df[columna].value_counts())\n",
    "    print('--------------')\n"
   ]
  },
  {
   "cell_type": "code",
   "execution_count": 14,
   "metadata": {},
   "outputs": [
    {
     "name": "stdout",
     "output_type": "stream",
     "text": [
      "<class 'pandas.core.frame.DataFrame'>\n",
      "Index: 118005 entries, 0 to 119389\n",
      "Data columns (total 30 columns):\n",
      " #   Column                          Non-Null Count   Dtype  \n",
      "---  ------                          --------------   -----  \n",
      " 0   hotel                           118005 non-null  object \n",
      " 1   is_canceled                     118005 non-null  object \n",
      " 2   lead_time                       118005 non-null  float64\n",
      " 3   arrival_date_year               64023 non-null   float64\n",
      " 4   arrival_date_month              118005 non-null  object \n",
      " 5   arrival_date_week_number        99667 non-null   float64\n",
      " 6   arrival_date_day_of_month       117886 non-null  float64\n",
      " 7   stays_in_weekend_nights         118005 non-null  float64\n",
      " 8   stays_in_week_nights            118005 non-null  float64\n",
      " 9   adults                          118005 non-null  float64\n",
      " 10  children                        68381 non-null   float64\n",
      " 11  babies                          118005 non-null  float64\n",
      " 12  meal                            118005 non-null  object \n",
      " 13  country                         64251 non-null   object \n",
      " 14  market_segment                  59240 non-null   object \n",
      " 15  distribution_channel            104539 non-null  object \n",
      " 16  is_repeated_guest               112993 non-null  float64\n",
      " 17  previous_cancellations          75146 non-null   float64\n",
      " 18  previous_bookings_not_canceled  118005 non-null  float64\n",
      " 19  reserved_room_type              78198 non-null   object \n",
      " 20  assigned_room_type              118005 non-null  object \n",
      " 21  booking_changes                 118005 non-null  float64\n",
      " 22  agent                           101855 non-null  float64\n",
      " 23  days_in_waiting_list            118005 non-null  float64\n",
      " 24  customer_type                   92912 non-null   object \n",
      " 25  adr                             118005 non-null  float64\n",
      " 26  required_car_parking_spaces     118005 non-null  float64\n",
      " 27  total_of_special_requests       118005 non-null  float64\n",
      " 28  reservation_status              118005 non-null  object \n",
      " 29  reservation_status_date         105137 non-null  object \n",
      "dtypes: float64(18), object(12)\n",
      "memory usage: 27.9+ MB\n"
     ]
    }
   ],
   "source": [
    "df.info()"
   ]
  },
  {
   "cell_type": "markdown",
   "metadata": {},
   "source": [
    "### Limpiamos variable arrival_date_month"
   ]
  },
  {
   "cell_type": "code",
   "execution_count": 15,
   "metadata": {},
   "outputs": [],
   "source": [
    "# Cambiar valores numericos de meses por los nombres\n",
    "\n",
    "df[\"arrival_date_month\"] = df[\"arrival_date_month\"].replace({\"1\":\"January\", \"2\":\"February\", \"3\":\"March\"})"
   ]
  },
  {
   "cell_type": "code",
   "execution_count": 16,
   "metadata": {},
   "outputs": [
    {
     "data": {
      "text/plain": [
       "arrival_date_month\n",
       "August       13751\n",
       "July         12556\n",
       "May          11637\n",
       "October      10984\n",
       "April        10955\n",
       "June         10789\n",
       "September    10338\n",
       "March         9747\n",
       "February      7981\n",
       "December      6707\n",
       "November      6660\n",
       "January       5900\n",
       "Name: count, dtype: int64"
      ]
     },
     "execution_count": 16,
     "metadata": {},
     "output_type": "execute_result"
    }
   ],
   "source": [
    "df[\"arrival_date_month\"].value_counts()"
   ]
  },
  {
   "cell_type": "markdown",
   "metadata": {},
   "source": [
    "### Redondeamos y convertimos a int : stays_in_weekend_nights"
   ]
  },
  {
   "cell_type": "code",
   "execution_count": 17,
   "metadata": {},
   "outputs": [
    {
     "data": {
      "text/plain": [
       "0         0.0\n",
       "1         0.0\n",
       "2         0.0\n",
       "3         0.0\n",
       "4         0.0\n",
       "         ... \n",
       "119385    2.0\n",
       "119386    2.0\n",
       "119387    2.0\n",
       "119388    2.0\n",
       "119389    2.0\n",
       "Name: stays_in_weekend_nights, Length: 118005, dtype: float64"
      ]
     },
     "execution_count": 17,
     "metadata": {},
     "output_type": "execute_result"
    }
   ],
   "source": [
    "df[\"stays_in_weekend_nights\"]"
   ]
  },
  {
   "cell_type": "code",
   "execution_count": 18,
   "metadata": {},
   "outputs": [],
   "source": [
    "df[\"stays_in_weekend_nights\"] = df[\"stays_in_weekend_nights\"].apply(lambda x: round(x,0))"
   ]
  },
  {
   "cell_type": "code",
   "execution_count": 19,
   "metadata": {},
   "outputs": [],
   "source": [
    "df[\"stays_in_weekend_nights\"] = df[\"stays_in_weekend_nights\"].astype(int)"
   ]
  },
  {
   "cell_type": "code",
   "execution_count": 20,
   "metadata": {},
   "outputs": [
    {
     "data": {
      "text/plain": [
       "0         0\n",
       "1         0\n",
       "2         0\n",
       "3         0\n",
       "4         0\n",
       "         ..\n",
       "119385    2\n",
       "119386    2\n",
       "119387    2\n",
       "119388    2\n",
       "119389    2\n",
       "Name: stays_in_weekend_nights, Length: 118005, dtype: int64"
      ]
     },
     "execution_count": 20,
     "metadata": {},
     "output_type": "execute_result"
    }
   ],
   "source": [
    "df[\"stays_in_weekend_nights\"]"
   ]
  },
  {
   "cell_type": "markdown",
   "metadata": {},
   "source": [
    "# MODA"
   ]
  },
  {
   "cell_type": "code",
   "execution_count": 21,
   "metadata": {},
   "outputs": [
    {
     "data": {
      "text/plain": [
       "0          1.0\n",
       "1          1.0\n",
       "2          1.0\n",
       "3          1.0\n",
       "4          1.0\n",
       "          ... \n",
       "119385    30.0\n",
       "119386    31.0\n",
       "119387    31.0\n",
       "119388    31.0\n",
       "119389    29.0\n",
       "Name: arrival_date_day_of_month, Length: 118005, dtype: object"
      ]
     },
     "execution_count": 21,
     "metadata": {},
     "output_type": "execute_result"
    }
   ],
   "source": [
    "df[\"arrival_date_day_of_month\"].fillna(df[\"arrival_date_day_of_month\"].mode)"
   ]
  },
  {
   "cell_type": "code",
   "execution_count": 22,
   "metadata": {},
   "outputs": [],
   "source": [
    "lista_columnas= [\"arrival_date_day_of_month\", \"distribution_channel\", \"is_repeated_guest\"]"
   ]
  },
  {
   "cell_type": "code",
   "execution_count": 23,
   "metadata": {},
   "outputs": [],
   "source": [
    "def fillna_moda(df, lista_columnas):\n",
    "    for columna in lista_columnas:\n",
    "        df[columna] = df[columna].fillna(df[columna].mode()[0])\n",
    "    return df"
   ]
  },
  {
   "cell_type": "code",
   "execution_count": 24,
   "metadata": {},
   "outputs": [
    {
     "data": {
      "text/html": [
       "<div>\n",
       "<style scoped>\n",
       "    .dataframe tbody tr th:only-of-type {\n",
       "        vertical-align: middle;\n",
       "    }\n",
       "\n",
       "    .dataframe tbody tr th {\n",
       "        vertical-align: top;\n",
       "    }\n",
       "\n",
       "    .dataframe thead th {\n",
       "        text-align: right;\n",
       "    }\n",
       "</style>\n",
       "<table border=\"1\" class=\"dataframe\">\n",
       "  <thead>\n",
       "    <tr style=\"text-align: right;\">\n",
       "      <th></th>\n",
       "      <th>hotel</th>\n",
       "      <th>is_canceled</th>\n",
       "      <th>lead_time</th>\n",
       "      <th>arrival_date_year</th>\n",
       "      <th>arrival_date_month</th>\n",
       "      <th>arrival_date_week_number</th>\n",
       "      <th>arrival_date_day_of_month</th>\n",
       "      <th>stays_in_weekend_nights</th>\n",
       "      <th>stays_in_week_nights</th>\n",
       "      <th>adults</th>\n",
       "      <th>...</th>\n",
       "      <th>assigned_room_type</th>\n",
       "      <th>booking_changes</th>\n",
       "      <th>agent</th>\n",
       "      <th>days_in_waiting_list</th>\n",
       "      <th>customer_type</th>\n",
       "      <th>adr</th>\n",
       "      <th>required_car_parking_spaces</th>\n",
       "      <th>total_of_special_requests</th>\n",
       "      <th>reservation_status</th>\n",
       "      <th>reservation_status_date</th>\n",
       "    </tr>\n",
       "  </thead>\n",
       "  <tbody>\n",
       "    <tr>\n",
       "      <th>0</th>\n",
       "      <td>Resort Hotel</td>\n",
       "      <td>False</td>\n",
       "      <td>342.0</td>\n",
       "      <td>2015.0</td>\n",
       "      <td>July</td>\n",
       "      <td>27.0</td>\n",
       "      <td>1.0</td>\n",
       "      <td>0</td>\n",
       "      <td>0.0</td>\n",
       "      <td>2.0</td>\n",
       "      <td>...</td>\n",
       "      <td>C</td>\n",
       "      <td>3.0</td>\n",
       "      <td>NaN</td>\n",
       "      <td>0.0</td>\n",
       "      <td>Transient</td>\n",
       "      <td>0.00</td>\n",
       "      <td>0.0</td>\n",
       "      <td>0.0</td>\n",
       "      <td>Check-Out</td>\n",
       "      <td>2015-07-01 00:00:00</td>\n",
       "    </tr>\n",
       "    <tr>\n",
       "      <th>1</th>\n",
       "      <td>Resort Hotel</td>\n",
       "      <td>False</td>\n",
       "      <td>737.0</td>\n",
       "      <td>NaN</td>\n",
       "      <td>July</td>\n",
       "      <td>27.0</td>\n",
       "      <td>1.0</td>\n",
       "      <td>0</td>\n",
       "      <td>0.0</td>\n",
       "      <td>2.0</td>\n",
       "      <td>...</td>\n",
       "      <td>C</td>\n",
       "      <td>4.0</td>\n",
       "      <td>NaN</td>\n",
       "      <td>0.0</td>\n",
       "      <td>Transient</td>\n",
       "      <td>0.00</td>\n",
       "      <td>0.0</td>\n",
       "      <td>0.0</td>\n",
       "      <td>Check-Out</td>\n",
       "      <td>2015-07-01 00:00:00</td>\n",
       "    </tr>\n",
       "    <tr>\n",
       "      <th>2</th>\n",
       "      <td>Resort Hotel</td>\n",
       "      <td>False</td>\n",
       "      <td>7.0</td>\n",
       "      <td>2015.0</td>\n",
       "      <td>July</td>\n",
       "      <td>27.0</td>\n",
       "      <td>1.0</td>\n",
       "      <td>0</td>\n",
       "      <td>1.0</td>\n",
       "      <td>1.0</td>\n",
       "      <td>...</td>\n",
       "      <td>C</td>\n",
       "      <td>0.0</td>\n",
       "      <td>NaN</td>\n",
       "      <td>0.0</td>\n",
       "      <td>Transient</td>\n",
       "      <td>75.00</td>\n",
       "      <td>0.0</td>\n",
       "      <td>0.0</td>\n",
       "      <td>Check-Out</td>\n",
       "      <td>2015-07-02 00:00:00</td>\n",
       "    </tr>\n",
       "    <tr>\n",
       "      <th>3</th>\n",
       "      <td>Resort Hotel</td>\n",
       "      <td>False</td>\n",
       "      <td>13.0</td>\n",
       "      <td>NaN</td>\n",
       "      <td>July</td>\n",
       "      <td>27.0</td>\n",
       "      <td>1.0</td>\n",
       "      <td>0</td>\n",
       "      <td>1.0</td>\n",
       "      <td>1.0</td>\n",
       "      <td>...</td>\n",
       "      <td>A</td>\n",
       "      <td>0.0</td>\n",
       "      <td>304.0</td>\n",
       "      <td>0.0</td>\n",
       "      <td>Transient</td>\n",
       "      <td>75.00</td>\n",
       "      <td>0.0</td>\n",
       "      <td>0.0</td>\n",
       "      <td>Check-Out</td>\n",
       "      <td>2015-07-02 00:00:00</td>\n",
       "    </tr>\n",
       "    <tr>\n",
       "      <th>4</th>\n",
       "      <td>Resort Hotel</td>\n",
       "      <td>False</td>\n",
       "      <td>14.0</td>\n",
       "      <td>NaN</td>\n",
       "      <td>July</td>\n",
       "      <td>NaN</td>\n",
       "      <td>1.0</td>\n",
       "      <td>0</td>\n",
       "      <td>2.0</td>\n",
       "      <td>2.0</td>\n",
       "      <td>...</td>\n",
       "      <td>A</td>\n",
       "      <td>0.0</td>\n",
       "      <td>240.0</td>\n",
       "      <td>0.0</td>\n",
       "      <td>Transient</td>\n",
       "      <td>98.00</td>\n",
       "      <td>0.0</td>\n",
       "      <td>1.0</td>\n",
       "      <td>Check-Out</td>\n",
       "      <td>2015-07-03 00:00:00</td>\n",
       "    </tr>\n",
       "    <tr>\n",
       "      <th>...</th>\n",
       "      <td>...</td>\n",
       "      <td>...</td>\n",
       "      <td>...</td>\n",
       "      <td>...</td>\n",
       "      <td>...</td>\n",
       "      <td>...</td>\n",
       "      <td>...</td>\n",
       "      <td>...</td>\n",
       "      <td>...</td>\n",
       "      <td>...</td>\n",
       "      <td>...</td>\n",
       "      <td>...</td>\n",
       "      <td>...</td>\n",
       "      <td>...</td>\n",
       "      <td>...</td>\n",
       "      <td>...</td>\n",
       "      <td>...</td>\n",
       "      <td>...</td>\n",
       "      <td>...</td>\n",
       "      <td>...</td>\n",
       "      <td>...</td>\n",
       "    </tr>\n",
       "    <tr>\n",
       "      <th>119385</th>\n",
       "      <td>City Hotel</td>\n",
       "      <td>False</td>\n",
       "      <td>23.0</td>\n",
       "      <td>2017.0</td>\n",
       "      <td>August</td>\n",
       "      <td>35.0</td>\n",
       "      <td>30.0</td>\n",
       "      <td>2</td>\n",
       "      <td>5.0</td>\n",
       "      <td>2.0</td>\n",
       "      <td>...</td>\n",
       "      <td>A</td>\n",
       "      <td>0.0</td>\n",
       "      <td>394.0</td>\n",
       "      <td>0.0</td>\n",
       "      <td>NaN</td>\n",
       "      <td>96.14</td>\n",
       "      <td>0.0</td>\n",
       "      <td>0.0</td>\n",
       "      <td>Check-Out</td>\n",
       "      <td>2017-06-09 00:00:00</td>\n",
       "    </tr>\n",
       "    <tr>\n",
       "      <th>119386</th>\n",
       "      <td>City Hotel</td>\n",
       "      <td>False</td>\n",
       "      <td>102.0</td>\n",
       "      <td>NaN</td>\n",
       "      <td>August</td>\n",
       "      <td>35.0</td>\n",
       "      <td>31.0</td>\n",
       "      <td>2</td>\n",
       "      <td>5.0</td>\n",
       "      <td>3.0</td>\n",
       "      <td>...</td>\n",
       "      <td>E</td>\n",
       "      <td>0.0</td>\n",
       "      <td>9.0</td>\n",
       "      <td>0.0</td>\n",
       "      <td>Transient</td>\n",
       "      <td>225.43</td>\n",
       "      <td>0.0</td>\n",
       "      <td>2.0</td>\n",
       "      <td>Check-Out</td>\n",
       "      <td>2017-07-09 00:00:00</td>\n",
       "    </tr>\n",
       "    <tr>\n",
       "      <th>119387</th>\n",
       "      <td>City Hotel</td>\n",
       "      <td>False</td>\n",
       "      <td>34.0</td>\n",
       "      <td>2017.0</td>\n",
       "      <td>August</td>\n",
       "      <td>35.0</td>\n",
       "      <td>31.0</td>\n",
       "      <td>2</td>\n",
       "      <td>5.0</td>\n",
       "      <td>2.0</td>\n",
       "      <td>...</td>\n",
       "      <td>D</td>\n",
       "      <td>0.0</td>\n",
       "      <td>9.0</td>\n",
       "      <td>0.0</td>\n",
       "      <td>Transient</td>\n",
       "      <td>157.71</td>\n",
       "      <td>0.0</td>\n",
       "      <td>4.0</td>\n",
       "      <td>Check-Out</td>\n",
       "      <td>2017-07-09 00:00:00</td>\n",
       "    </tr>\n",
       "    <tr>\n",
       "      <th>119388</th>\n",
       "      <td>City Hotel</td>\n",
       "      <td>False</td>\n",
       "      <td>109.0</td>\n",
       "      <td>NaN</td>\n",
       "      <td>August</td>\n",
       "      <td>35.0</td>\n",
       "      <td>31.0</td>\n",
       "      <td>2</td>\n",
       "      <td>5.0</td>\n",
       "      <td>55.0</td>\n",
       "      <td>...</td>\n",
       "      <td>A</td>\n",
       "      <td>0.0</td>\n",
       "      <td>89.0</td>\n",
       "      <td>0.0</td>\n",
       "      <td>Transient</td>\n",
       "      <td>104.40</td>\n",
       "      <td>0.0</td>\n",
       "      <td>0.0</td>\n",
       "      <td>Check-Out</td>\n",
       "      <td>2017-07-09 00:00:00</td>\n",
       "    </tr>\n",
       "    <tr>\n",
       "      <th>119389</th>\n",
       "      <td>City Hotel</td>\n",
       "      <td>False</td>\n",
       "      <td>205.0</td>\n",
       "      <td>2017.0</td>\n",
       "      <td>August</td>\n",
       "      <td>35.0</td>\n",
       "      <td>29.0</td>\n",
       "      <td>2</td>\n",
       "      <td>7.0</td>\n",
       "      <td>2.0</td>\n",
       "      <td>...</td>\n",
       "      <td>A</td>\n",
       "      <td>0.0</td>\n",
       "      <td>9.0</td>\n",
       "      <td>0.0</td>\n",
       "      <td>NaN</td>\n",
       "      <td>151.20</td>\n",
       "      <td>0.0</td>\n",
       "      <td>2.0</td>\n",
       "      <td>Check-Out</td>\n",
       "      <td>2017-07-09 00:00:00</td>\n",
       "    </tr>\n",
       "  </tbody>\n",
       "</table>\n",
       "<p>118005 rows × 30 columns</p>\n",
       "</div>"
      ],
      "text/plain": [
       "               hotel is_canceled  lead_time  arrival_date_year  \\\n",
       "0       Resort Hotel       False      342.0             2015.0   \n",
       "1       Resort Hotel       False      737.0                NaN   \n",
       "2       Resort Hotel       False        7.0             2015.0   \n",
       "3       Resort Hotel       False       13.0                NaN   \n",
       "4       Resort Hotel       False       14.0                NaN   \n",
       "...              ...         ...        ...                ...   \n",
       "119385    City Hotel       False       23.0             2017.0   \n",
       "119386    City Hotel       False      102.0                NaN   \n",
       "119387    City Hotel       False       34.0             2017.0   \n",
       "119388    City Hotel       False      109.0                NaN   \n",
       "119389    City Hotel       False      205.0             2017.0   \n",
       "\n",
       "       arrival_date_month  arrival_date_week_number  \\\n",
       "0                    July                      27.0   \n",
       "1                    July                      27.0   \n",
       "2                    July                      27.0   \n",
       "3                    July                      27.0   \n",
       "4                    July                       NaN   \n",
       "...                   ...                       ...   \n",
       "119385             August                      35.0   \n",
       "119386             August                      35.0   \n",
       "119387             August                      35.0   \n",
       "119388             August                      35.0   \n",
       "119389             August                      35.0   \n",
       "\n",
       "        arrival_date_day_of_month  stays_in_weekend_nights  \\\n",
       "0                             1.0                        0   \n",
       "1                             1.0                        0   \n",
       "2                             1.0                        0   \n",
       "3                             1.0                        0   \n",
       "4                             1.0                        0   \n",
       "...                           ...                      ...   \n",
       "119385                       30.0                        2   \n",
       "119386                       31.0                        2   \n",
       "119387                       31.0                        2   \n",
       "119388                       31.0                        2   \n",
       "119389                       29.0                        2   \n",
       "\n",
       "        stays_in_week_nights  adults  ...  assigned_room_type  \\\n",
       "0                        0.0     2.0  ...                   C   \n",
       "1                        0.0     2.0  ...                   C   \n",
       "2                        1.0     1.0  ...                   C   \n",
       "3                        1.0     1.0  ...                   A   \n",
       "4                        2.0     2.0  ...                   A   \n",
       "...                      ...     ...  ...                 ...   \n",
       "119385                   5.0     2.0  ...                   A   \n",
       "119386                   5.0     3.0  ...                   E   \n",
       "119387                   5.0     2.0  ...                   D   \n",
       "119388                   5.0    55.0  ...                   A   \n",
       "119389                   7.0     2.0  ...                   A   \n",
       "\n",
       "        booking_changes  agent days_in_waiting_list customer_type     adr  \\\n",
       "0                   3.0    NaN                  0.0     Transient    0.00   \n",
       "1                   4.0    NaN                  0.0     Transient    0.00   \n",
       "2                   0.0    NaN                  0.0     Transient   75.00   \n",
       "3                   0.0  304.0                  0.0     Transient   75.00   \n",
       "4                   0.0  240.0                  0.0     Transient   98.00   \n",
       "...                 ...    ...                  ...           ...     ...   \n",
       "119385              0.0  394.0                  0.0           NaN   96.14   \n",
       "119386              0.0    9.0                  0.0     Transient  225.43   \n",
       "119387              0.0    9.0                  0.0     Transient  157.71   \n",
       "119388              0.0   89.0                  0.0     Transient  104.40   \n",
       "119389              0.0    9.0                  0.0           NaN  151.20   \n",
       "\n",
       "        required_car_parking_spaces  total_of_special_requests  \\\n",
       "0                               0.0                        0.0   \n",
       "1                               0.0                        0.0   \n",
       "2                               0.0                        0.0   \n",
       "3                               0.0                        0.0   \n",
       "4                               0.0                        1.0   \n",
       "...                             ...                        ...   \n",
       "119385                          0.0                        0.0   \n",
       "119386                          0.0                        2.0   \n",
       "119387                          0.0                        4.0   \n",
       "119388                          0.0                        0.0   \n",
       "119389                          0.0                        2.0   \n",
       "\n",
       "        reservation_status reservation_status_date  \n",
       "0                Check-Out     2015-07-01 00:00:00  \n",
       "1                Check-Out     2015-07-01 00:00:00  \n",
       "2                Check-Out     2015-07-02 00:00:00  \n",
       "3                Check-Out     2015-07-02 00:00:00  \n",
       "4                Check-Out     2015-07-03 00:00:00  \n",
       "...                    ...                     ...  \n",
       "119385           Check-Out     2017-06-09 00:00:00  \n",
       "119386           Check-Out     2017-07-09 00:00:00  \n",
       "119387           Check-Out     2017-07-09 00:00:00  \n",
       "119388           Check-Out     2017-07-09 00:00:00  \n",
       "119389           Check-Out     2017-07-09 00:00:00  \n",
       "\n",
       "[118005 rows x 30 columns]"
      ]
     },
     "execution_count": 24,
     "metadata": {},
     "output_type": "execute_result"
    }
   ],
   "source": [
    "fillna_moda(df, lista_columnas)"
   ]
  },
  {
   "cell_type": "code",
   "execution_count": 25,
   "metadata": {},
   "outputs": [
    {
     "data": {
      "text/plain": [
       "hotel                                 0\n",
       "is_canceled                           0\n",
       "lead_time                             0\n",
       "arrival_date_year                 53982\n",
       "arrival_date_month                    0\n",
       "arrival_date_week_number          18338\n",
       "arrival_date_day_of_month             0\n",
       "stays_in_weekend_nights               0\n",
       "stays_in_week_nights                  0\n",
       "adults                                0\n",
       "children                          49624\n",
       "babies                                0\n",
       "meal                                  0\n",
       "country                           53754\n",
       "market_segment                    58765\n",
       "distribution_channel                  0\n",
       "is_repeated_guest                     0\n",
       "previous_cancellations            42859\n",
       "previous_bookings_not_canceled        0\n",
       "reserved_room_type                39807\n",
       "assigned_room_type                    0\n",
       "booking_changes                       0\n",
       "agent                             16150\n",
       "days_in_waiting_list                  0\n",
       "customer_type                     25093\n",
       "adr                                   0\n",
       "required_car_parking_spaces           0\n",
       "total_of_special_requests             0\n",
       "reservation_status                    0\n",
       "reservation_status_date           12868\n",
       "dtype: int64"
      ]
     },
     "execution_count": 25,
     "metadata": {},
     "output_type": "execute_result"
    }
   ],
   "source": [
    "df.isna().sum()"
   ]
  },
  {
   "cell_type": "markdown",
   "metadata": {},
   "source": [
    "### Boxplot para previous cancellations"
   ]
  },
  {
   "cell_type": "code",
   "execution_count": 26,
   "metadata": {},
   "outputs": [
    {
     "data": {
      "image/png": "[encoded data removed]",
      "text/plain": [
       "<Figure size 640x480 with 1 Axes>"
      ]
     },
     "metadata": {},
     "output_type": "display_data"
    }
   ],
   "source": [
    "sns.boxplot(x = 'previous_cancellations', data = df, palette='cool_r');"
   ]
  },
  {
   "cell_type": "markdown",
   "metadata": {},
   "source": [
    "- al tener muchos outliers, optamos por unknown"
   ]
  },
  {
   "cell_type": "markdown",
   "metadata": {},
   "source": [
    "# UNKOWN"
   ]
  },
  {
   "cell_type": "code",
   "execution_count": 27,
   "metadata": {},
   "outputs": [],
   "source": [
    "lista_columnas_un = [\"arrival_date_year\", \"arrival_date_week_number\", \"country\", \"children\", \"market_segment\", \"reserved_room_type\", \"agent\", \"reservation_status_date\", \"customer_type\", \"previous_cancellations\"]"
   ]
  },
  {
   "cell_type": "code",
   "execution_count": 28,
   "metadata": {},
   "outputs": [],
   "source": [
    "def fillna_unknown(df, lista_columnas):\n",
    "    for columna in lista_columnas:\n",
    "        df[columna] = df[columna].fillna(\"Unknown\")\n",
    "    return df"
   ]
  },
  {
   "cell_type": "code",
   "execution_count": 29,
   "metadata": {},
   "outputs": [
    {
     "data": {
      "text/html": [
       "<div>\n",
       "<style scoped>\n",
       "    .dataframe tbody tr th:only-of-type {\n",
       "        vertical-align: middle;\n",
       "    }\n",
       "\n",
       "    .dataframe tbody tr th {\n",
       "        vertical-align: top;\n",
       "    }\n",
       "\n",
       "    .dataframe thead th {\n",
       "        text-align: right;\n",
       "    }\n",
       "</style>\n",
       "<table border=\"1\" class=\"dataframe\">\n",
       "  <thead>\n",
       "    <tr style=\"text-align: right;\">\n",
       "      <th></th>\n",
       "      <th>hotel</th>\n",
       "      <th>is_canceled</th>\n",
       "      <th>lead_time</th>\n",
       "      <th>arrival_date_year</th>\n",
       "      <th>arrival_date_month</th>\n",
       "      <th>arrival_date_week_number</th>\n",
       "      <th>arrival_date_day_of_month</th>\n",
       "      <th>stays_in_weekend_nights</th>\n",
       "      <th>stays_in_week_nights</th>\n",
       "      <th>adults</th>\n",
       "      <th>...</th>\n",
       "      <th>assigned_room_type</th>\n",
       "      <th>booking_changes</th>\n",
       "      <th>agent</th>\n",
       "      <th>days_in_waiting_list</th>\n",
       "      <th>customer_type</th>\n",
       "      <th>adr</th>\n",
       "      <th>required_car_parking_spaces</th>\n",
       "      <th>total_of_special_requests</th>\n",
       "      <th>reservation_status</th>\n",
       "      <th>reservation_status_date</th>\n",
       "    </tr>\n",
       "  </thead>\n",
       "  <tbody>\n",
       "    <tr>\n",
       "      <th>0</th>\n",
       "      <td>Resort Hotel</td>\n",
       "      <td>False</td>\n",
       "      <td>342.0</td>\n",
       "      <td>2015.0</td>\n",
       "      <td>July</td>\n",
       "      <td>27.0</td>\n",
       "      <td>1.0</td>\n",
       "      <td>0</td>\n",
       "      <td>0.0</td>\n",
       "      <td>2.0</td>\n",
       "      <td>...</td>\n",
       "      <td>C</td>\n",
       "      <td>3.0</td>\n",
       "      <td>Unknown</td>\n",
       "      <td>0.0</td>\n",
       "      <td>Transient</td>\n",
       "      <td>0.00</td>\n",
       "      <td>0.0</td>\n",
       "      <td>0.0</td>\n",
       "      <td>Check-Out</td>\n",
       "      <td>2015-07-01 00:00:00</td>\n",
       "    </tr>\n",
       "    <tr>\n",
       "      <th>1</th>\n",
       "      <td>Resort Hotel</td>\n",
       "      <td>False</td>\n",
       "      <td>737.0</td>\n",
       "      <td>Unknown</td>\n",
       "      <td>July</td>\n",
       "      <td>27.0</td>\n",
       "      <td>1.0</td>\n",
       "      <td>0</td>\n",
       "      <td>0.0</td>\n",
       "      <td>2.0</td>\n",
       "      <td>...</td>\n",
       "      <td>C</td>\n",
       "      <td>4.0</td>\n",
       "      <td>Unknown</td>\n",
       "      <td>0.0</td>\n",
       "      <td>Transient</td>\n",
       "      <td>0.00</td>\n",
       "      <td>0.0</td>\n",
       "      <td>0.0</td>\n",
       "      <td>Check-Out</td>\n",
       "      <td>2015-07-01 00:00:00</td>\n",
       "    </tr>\n",
       "    <tr>\n",
       "      <th>2</th>\n",
       "      <td>Resort Hotel</td>\n",
       "      <td>False</td>\n",
       "      <td>7.0</td>\n",
       "      <td>2015.0</td>\n",
       "      <td>July</td>\n",
       "      <td>27.0</td>\n",
       "      <td>1.0</td>\n",
       "      <td>0</td>\n",
       "      <td>1.0</td>\n",
       "      <td>1.0</td>\n",
       "      <td>...</td>\n",
       "      <td>C</td>\n",
       "      <td>0.0</td>\n",
       "      <td>Unknown</td>\n",
       "      <td>0.0</td>\n",
       "      <td>Transient</td>\n",
       "      <td>75.00</td>\n",
       "      <td>0.0</td>\n",
       "      <td>0.0</td>\n",
       "      <td>Check-Out</td>\n",
       "      <td>2015-07-02 00:00:00</td>\n",
       "    </tr>\n",
       "    <tr>\n",
       "      <th>3</th>\n",
       "      <td>Resort Hotel</td>\n",
       "      <td>False</td>\n",
       "      <td>13.0</td>\n",
       "      <td>Unknown</td>\n",
       "      <td>July</td>\n",
       "      <td>27.0</td>\n",
       "      <td>1.0</td>\n",
       "      <td>0</td>\n",
       "      <td>1.0</td>\n",
       "      <td>1.0</td>\n",
       "      <td>...</td>\n",
       "      <td>A</td>\n",
       "      <td>0.0</td>\n",
       "      <td>304.0</td>\n",
       "      <td>0.0</td>\n",
       "      <td>Transient</td>\n",
       "      <td>75.00</td>\n",
       "      <td>0.0</td>\n",
       "      <td>0.0</td>\n",
       "      <td>Check-Out</td>\n",
       "      <td>2015-07-02 00:00:00</td>\n",
       "    </tr>\n",
       "    <tr>\n",
       "      <th>4</th>\n",
       "      <td>Resort Hotel</td>\n",
       "      <td>False</td>\n",
       "      <td>14.0</td>\n",
       "      <td>Unknown</td>\n",
       "      <td>July</td>\n",
       "      <td>Unknown</td>\n",
       "      <td>1.0</td>\n",
       "      <td>0</td>\n",
       "      <td>2.0</td>\n",
       "      <td>2.0</td>\n",
       "      <td>...</td>\n",
       "      <td>A</td>\n",
       "      <td>0.0</td>\n",
       "      <td>240.0</td>\n",
       "      <td>0.0</td>\n",
       "      <td>Transient</td>\n",
       "      <td>98.00</td>\n",
       "      <td>0.0</td>\n",
       "      <td>1.0</td>\n",
       "      <td>Check-Out</td>\n",
       "      <td>2015-07-03 00:00:00</td>\n",
       "    </tr>\n",
       "    <tr>\n",
       "      <th>...</th>\n",
       "      <td>...</td>\n",
       "      <td>...</td>\n",
       "      <td>...</td>\n",
       "      <td>...</td>\n",
       "      <td>...</td>\n",
       "      <td>...</td>\n",
       "      <td>...</td>\n",
       "      <td>...</td>\n",
       "      <td>...</td>\n",
       "      <td>...</td>\n",
       "      <td>...</td>\n",
       "      <td>...</td>\n",
       "      <td>...</td>\n",
       "      <td>...</td>\n",
       "      <td>...</td>\n",
       "      <td>...</td>\n",
       "      <td>...</td>\n",
       "      <td>...</td>\n",
       "      <td>...</td>\n",
       "      <td>...</td>\n",
       "      <td>...</td>\n",
       "    </tr>\n",
       "    <tr>\n",
       "      <th>119385</th>\n",
       "      <td>City Hotel</td>\n",
       "      <td>False</td>\n",
       "      <td>23.0</td>\n",
       "      <td>2017.0</td>\n",
       "      <td>August</td>\n",
       "      <td>35.0</td>\n",
       "      <td>30.0</td>\n",
       "      <td>2</td>\n",
       "      <td>5.0</td>\n",
       "      <td>2.0</td>\n",
       "      <td>...</td>\n",
       "      <td>A</td>\n",
       "      <td>0.0</td>\n",
       "      <td>394.0</td>\n",
       "      <td>0.0</td>\n",
       "      <td>Unknown</td>\n",
       "      <td>96.14</td>\n",
       "      <td>0.0</td>\n",
       "      <td>0.0</td>\n",
       "      <td>Check-Out</td>\n",
       "      <td>2017-06-09 00:00:00</td>\n",
       "    </tr>\n",
       "    <tr>\n",
       "      <th>119386</th>\n",
       "      <td>City Hotel</td>\n",
       "      <td>False</td>\n",
       "      <td>102.0</td>\n",
       "      <td>Unknown</td>\n",
       "      <td>August</td>\n",
       "      <td>35.0</td>\n",
       "      <td>31.0</td>\n",
       "      <td>2</td>\n",
       "      <td>5.0</td>\n",
       "      <td>3.0</td>\n",
       "      <td>...</td>\n",
       "      <td>E</td>\n",
       "      <td>0.0</td>\n",
       "      <td>9.0</td>\n",
       "      <td>0.0</td>\n",
       "      <td>Transient</td>\n",
       "      <td>225.43</td>\n",
       "      <td>0.0</td>\n",
       "      <td>2.0</td>\n",
       "      <td>Check-Out</td>\n",
       "      <td>2017-07-09 00:00:00</td>\n",
       "    </tr>\n",
       "    <tr>\n",
       "      <th>119387</th>\n",
       "      <td>City Hotel</td>\n",
       "      <td>False</td>\n",
       "      <td>34.0</td>\n",
       "      <td>2017.0</td>\n",
       "      <td>August</td>\n",
       "      <td>35.0</td>\n",
       "      <td>31.0</td>\n",
       "      <td>2</td>\n",
       "      <td>5.0</td>\n",
       "      <td>2.0</td>\n",
       "      <td>...</td>\n",
       "      <td>D</td>\n",
       "      <td>0.0</td>\n",
       "      <td>9.0</td>\n",
       "      <td>0.0</td>\n",
       "      <td>Transient</td>\n",
       "      <td>157.71</td>\n",
       "      <td>0.0</td>\n",
       "      <td>4.0</td>\n",
       "      <td>Check-Out</td>\n",
       "      <td>2017-07-09 00:00:00</td>\n",
       "    </tr>\n",
       "    <tr>\n",
       "      <th>119388</th>\n",
       "      <td>City Hotel</td>\n",
       "      <td>False</td>\n",
       "      <td>109.0</td>\n",
       "      <td>Unknown</td>\n",
       "      <td>August</td>\n",
       "      <td>35.0</td>\n",
       "      <td>31.0</td>\n",
       "      <td>2</td>\n",
       "      <td>5.0</td>\n",
       "      <td>55.0</td>\n",
       "      <td>...</td>\n",
       "      <td>A</td>\n",
       "      <td>0.0</td>\n",
       "      <td>89.0</td>\n",
       "      <td>0.0</td>\n",
       "      <td>Transient</td>\n",
       "      <td>104.40</td>\n",
       "      <td>0.0</td>\n",
       "      <td>0.0</td>\n",
       "      <td>Check-Out</td>\n",
       "      <td>2017-07-09 00:00:00</td>\n",
       "    </tr>\n",
       "    <tr>\n",
       "      <th>119389</th>\n",
       "      <td>City Hotel</td>\n",
       "      <td>False</td>\n",
       "      <td>205.0</td>\n",
       "      <td>2017.0</td>\n",
       "      <td>August</td>\n",
       "      <td>35.0</td>\n",
       "      <td>29.0</td>\n",
       "      <td>2</td>\n",
       "      <td>7.0</td>\n",
       "      <td>2.0</td>\n",
       "      <td>...</td>\n",
       "      <td>A</td>\n",
       "      <td>0.0</td>\n",
       "      <td>9.0</td>\n",
       "      <td>0.0</td>\n",
       "      <td>Unknown</td>\n",
       "      <td>151.20</td>\n",
       "      <td>0.0</td>\n",
       "      <td>2.0</td>\n",
       "      <td>Check-Out</td>\n",
       "      <td>2017-07-09 00:00:00</td>\n",
       "    </tr>\n",
       "  </tbody>\n",
       "</table>\n",
       "<p>118005 rows × 30 columns</p>\n",
       "</div>"
      ],
      "text/plain": [
       "               hotel is_canceled  lead_time arrival_date_year  \\\n",
       "0       Resort Hotel       False      342.0            2015.0   \n",
       "1       Resort Hotel       False      737.0           Unknown   \n",
       "2       Resort Hotel       False        7.0            2015.0   \n",
       "3       Resort Hotel       False       13.0           Unknown   \n",
       "4       Resort Hotel       False       14.0           Unknown   \n",
       "...              ...         ...        ...               ...   \n",
       "119385    City Hotel       False       23.0            2017.0   \n",
       "119386    City Hotel       False      102.0           Unknown   \n",
       "119387    City Hotel       False       34.0            2017.0   \n",
       "119388    City Hotel       False      109.0           Unknown   \n",
       "119389    City Hotel       False      205.0            2017.0   \n",
       "\n",
       "       arrival_date_month arrival_date_week_number  arrival_date_day_of_month  \\\n",
       "0                    July                     27.0                        1.0   \n",
       "1                    July                     27.0                        1.0   \n",
       "2                    July                     27.0                        1.0   \n",
       "3                    July                     27.0                        1.0   \n",
       "4                    July                  Unknown                        1.0   \n",
       "...                   ...                      ...                        ...   \n",
       "119385             August                     35.0                       30.0   \n",
       "119386             August                     35.0                       31.0   \n",
       "119387             August                     35.0                       31.0   \n",
       "119388             August                     35.0                       31.0   \n",
       "119389             August                     35.0                       29.0   \n",
       "\n",
       "        stays_in_weekend_nights  stays_in_week_nights  adults  ...  \\\n",
       "0                             0                   0.0     2.0  ...   \n",
       "1                             0                   0.0     2.0  ...   \n",
       "2                             0                   1.0     1.0  ...   \n",
       "3                             0                   1.0     1.0  ...   \n",
       "4                             0                   2.0     2.0  ...   \n",
       "...                         ...                   ...     ...  ...   \n",
       "119385                        2                   5.0     2.0  ...   \n",
       "119386                        2                   5.0     3.0  ...   \n",
       "119387                        2                   5.0     2.0  ...   \n",
       "119388                        2                   5.0    55.0  ...   \n",
       "119389                        2                   7.0     2.0  ...   \n",
       "\n",
       "       assigned_room_type  booking_changes    agent days_in_waiting_list  \\\n",
       "0                       C              3.0  Unknown                  0.0   \n",
       "1                       C              4.0  Unknown                  0.0   \n",
       "2                       C              0.0  Unknown                  0.0   \n",
       "3                       A              0.0    304.0                  0.0   \n",
       "4                       A              0.0    240.0                  0.0   \n",
       "...                   ...              ...      ...                  ...   \n",
       "119385                  A              0.0    394.0                  0.0   \n",
       "119386                  E              0.0      9.0                  0.0   \n",
       "119387                  D              0.0      9.0                  0.0   \n",
       "119388                  A              0.0     89.0                  0.0   \n",
       "119389                  A              0.0      9.0                  0.0   \n",
       "\n",
       "       customer_type     adr  required_car_parking_spaces  \\\n",
       "0          Transient    0.00                          0.0   \n",
       "1          Transient    0.00                          0.0   \n",
       "2          Transient   75.00                          0.0   \n",
       "3          Transient   75.00                          0.0   \n",
       "4          Transient   98.00                          0.0   \n",
       "...              ...     ...                          ...   \n",
       "119385       Unknown   96.14                          0.0   \n",
       "119386     Transient  225.43                          0.0   \n",
       "119387     Transient  157.71                          0.0   \n",
       "119388     Transient  104.40                          0.0   \n",
       "119389       Unknown  151.20                          0.0   \n",
       "\n",
       "       total_of_special_requests  reservation_status reservation_status_date  \n",
       "0                            0.0           Check-Out     2015-07-01 00:00:00  \n",
       "1                            0.0           Check-Out     2015-07-01 00:00:00  \n",
       "2                            0.0           Check-Out     2015-07-02 00:00:00  \n",
       "3                            0.0           Check-Out     2015-07-02 00:00:00  \n",
       "4                            1.0           Check-Out     2015-07-03 00:00:00  \n",
       "...                          ...                 ...                     ...  \n",
       "119385                       0.0           Check-Out     2017-06-09 00:00:00  \n",
       "119386                       2.0           Check-Out     2017-07-09 00:00:00  \n",
       "119387                       4.0           Check-Out     2017-07-09 00:00:00  \n",
       "119388                       0.0           Check-Out     2017-07-09 00:00:00  \n",
       "119389                       2.0           Check-Out     2017-07-09 00:00:00  \n",
       "\n",
       "[118005 rows x 30 columns]"
      ]
     },
     "execution_count": 29,
     "metadata": {},
     "output_type": "execute_result"
    }
   ],
   "source": [
    "fillna_unknown(df, lista_columnas_un)"
   ]
  },
  {
   "cell_type": "code",
   "execution_count": 30,
   "metadata": {},
   "outputs": [
    {
     "data": {
      "text/plain": [
       "hotel                             0\n",
       "is_canceled                       0\n",
       "lead_time                         0\n",
       "arrival_date_year                 0\n",
       "arrival_date_month                0\n",
       "arrival_date_week_number          0\n",
       "arrival_date_day_of_month         0\n",
       "stays_in_weekend_nights           0\n",
       "stays_in_week_nights              0\n",
       "adults                            0\n",
       "children                          0\n",
       "babies                            0\n",
       "meal                              0\n",
       "country                           0\n",
       "market_segment                    0\n",
       "distribution_channel              0\n",
       "is_repeated_guest                 0\n",
       "previous_cancellations            0\n",
       "previous_bookings_not_canceled    0\n",
       "reserved_room_type                0\n",
       "assigned_room_type                0\n",
       "booking_changes                   0\n",
       "agent                             0\n",
       "days_in_waiting_list              0\n",
       "customer_type                     0\n",
       "adr                               0\n",
       "required_car_parking_spaces       0\n",
       "total_of_special_requests         0\n",
       "reservation_status                0\n",
       "reservation_status_date           0\n",
       "dtype: int64"
      ]
     },
     "execution_count": 30,
     "metadata": {},
     "output_type": "execute_result"
    }
   ],
   "source": [
    "df.isna().sum()"
   ]
  },
  {
   "cell_type": "code",
   "execution_count": 31,
   "metadata": {},
   "outputs": [
    {
     "data": {
      "text/plain": [
       "(118005, 30)"
      ]
     },
     "execution_count": 31,
     "metadata": {},
     "output_type": "execute_result"
    }
   ],
   "source": [
    "df.shape"
   ]
  },
  {
   "cell_type": "markdown",
   "metadata": {},
   "source": [
    "### Undefined to unknown (replace)"
   ]
  },
  {
   "cell_type": "code",
   "execution_count": 32,
   "metadata": {},
   "outputs": [],
   "source": [
    "df[\"arrival_date_month\"] = df[\"arrival_date_month\"].replace({\"1\":\"January\", \"2\":\"February\", \"3\":\"March\"})"
   ]
  },
  {
   "cell_type": "code",
   "execution_count": 33,
   "metadata": {},
   "outputs": [],
   "source": [
    "lista_columnas_re = [\"distribution_channel\", \"market_segment\"]"
   ]
  },
  {
   "cell_type": "code",
   "execution_count": 34,
   "metadata": {},
   "outputs": [],
   "source": [
    "def replace_undefined (df, lista_columnas):\n",
    "    for columna in lista_columnas:\n",
    "        df[columna] = df[columna].replace({\"Undefined\": \"Unknown\"})"
   ]
  },
  {
   "cell_type": "code",
   "execution_count": 35,
   "metadata": {},
   "outputs": [],
   "source": [
    "replace_undefined(df, lista_columnas_re)\n"
   ]
  },
  {
   "cell_type": "code",
   "execution_count": 36,
   "metadata": {},
   "outputs": [
    {
     "data": {
      "text/plain": [
       "hotel                             0\n",
       "is_canceled                       0\n",
       "lead_time                         0\n",
       "arrival_date_year                 0\n",
       "arrival_date_month                0\n",
       "arrival_date_week_number          0\n",
       "arrival_date_day_of_month         0\n",
       "stays_in_weekend_nights           0\n",
       "stays_in_week_nights              0\n",
       "adults                            0\n",
       "children                          0\n",
       "babies                            0\n",
       "meal                              0\n",
       "country                           0\n",
       "market_segment                    0\n",
       "distribution_channel              0\n",
       "is_repeated_guest                 0\n",
       "previous_cancellations            0\n",
       "previous_bookings_not_canceled    0\n",
       "reserved_room_type                0\n",
       "assigned_room_type                0\n",
       "booking_changes                   0\n",
       "agent                             0\n",
       "days_in_waiting_list              0\n",
       "customer_type                     0\n",
       "adr                               0\n",
       "required_car_parking_spaces       0\n",
       "total_of_special_requests         0\n",
       "reservation_status                0\n",
       "reservation_status_date           0\n",
       "dtype: int64"
      ]
     },
     "execution_count": 36,
     "metadata": {},
     "output_type": "execute_result"
    }
   ],
   "source": [
    "df.isna().sum()"
   ]
  },
  {
   "cell_type": "markdown",
   "metadata": {},
   "source": [
    "### cambio labels is_repeated_guest"
   ]
  },
  {
   "cell_type": "code",
   "execution_count": 37,
   "metadata": {},
   "outputs": [
    {
     "data": {
      "text/plain": [
       "is_repeated_guest\n",
       "0.0    114375\n",
       "1.0      3630\n",
       "Name: count, dtype: int64"
      ]
     },
     "execution_count": 37,
     "metadata": {},
     "output_type": "execute_result"
    }
   ],
   "source": [
    "df[\"is_repeated_guest\"].value_counts()"
   ]
  },
  {
   "cell_type": "code",
   "execution_count": 38,
   "metadata": {},
   "outputs": [],
   "source": [
    "df[\"is_repeated_guest\"] = df[\"is_repeated_guest\"].replace({0:\"no\", 1:\"yes\"})"
   ]
  },
  {
   "cell_type": "code",
   "execution_count": 39,
   "metadata": {},
   "outputs": [
    {
     "data": {
      "text/plain": [
       "is_repeated_guest\n",
       "no     114375\n",
       "yes      3630\n",
       "Name: count, dtype: int64"
      ]
     },
     "execution_count": 39,
     "metadata": {},
     "output_type": "execute_result"
    }
   ],
   "source": [
    "df[\"is_repeated_guest\"].value_counts()"
   ]
  },
  {
   "cell_type": "code",
   "execution_count": 40,
   "metadata": {},
   "outputs": [
    {
     "data": {
      "text/html": [
       "<div>\n",
       "<style scoped>\n",
       "    .dataframe tbody tr th:only-of-type {\n",
       "        vertical-align: middle;\n",
       "    }\n",
       "\n",
       "    .dataframe tbody tr th {\n",
       "        vertical-align: top;\n",
       "    }\n",
       "\n",
       "    .dataframe thead th {\n",
       "        text-align: right;\n",
       "    }\n",
       "</style>\n",
       "<table border=\"1\" class=\"dataframe\">\n",
       "  <thead>\n",
       "    <tr style=\"text-align: right;\">\n",
       "      <th></th>\n",
       "      <th>0</th>\n",
       "      <th>1</th>\n",
       "      <th>2</th>\n",
       "      <th>3</th>\n",
       "      <th>4</th>\n",
       "    </tr>\n",
       "  </thead>\n",
       "  <tbody>\n",
       "    <tr>\n",
       "      <th>hotel</th>\n",
       "      <td>Resort Hotel</td>\n",
       "      <td>Resort Hotel</td>\n",
       "      <td>Resort Hotel</td>\n",
       "      <td>Resort Hotel</td>\n",
       "      <td>Resort Hotel</td>\n",
       "    </tr>\n",
       "    <tr>\n",
       "      <th>is_canceled</th>\n",
       "      <td>False</td>\n",
       "      <td>False</td>\n",
       "      <td>False</td>\n",
       "      <td>False</td>\n",
       "      <td>False</td>\n",
       "    </tr>\n",
       "    <tr>\n",
       "      <th>lead_time</th>\n",
       "      <td>342.0</td>\n",
       "      <td>737.0</td>\n",
       "      <td>7.0</td>\n",
       "      <td>13.0</td>\n",
       "      <td>14.0</td>\n",
       "    </tr>\n",
       "    <tr>\n",
       "      <th>arrival_date_year</th>\n",
       "      <td>2015.0</td>\n",
       "      <td>Unknown</td>\n",
       "      <td>2015.0</td>\n",
       "      <td>Unknown</td>\n",
       "      <td>Unknown</td>\n",
       "    </tr>\n",
       "    <tr>\n",
       "      <th>arrival_date_month</th>\n",
       "      <td>July</td>\n",
       "      <td>July</td>\n",
       "      <td>July</td>\n",
       "      <td>July</td>\n",
       "      <td>July</td>\n",
       "    </tr>\n",
       "    <tr>\n",
       "      <th>arrival_date_week_number</th>\n",
       "      <td>27.0</td>\n",
       "      <td>27.0</td>\n",
       "      <td>27.0</td>\n",
       "      <td>27.0</td>\n",
       "      <td>Unknown</td>\n",
       "    </tr>\n",
       "    <tr>\n",
       "      <th>arrival_date_day_of_month</th>\n",
       "      <td>1.0</td>\n",
       "      <td>1.0</td>\n",
       "      <td>1.0</td>\n",
       "      <td>1.0</td>\n",
       "      <td>1.0</td>\n",
       "    </tr>\n",
       "    <tr>\n",
       "      <th>stays_in_weekend_nights</th>\n",
       "      <td>0</td>\n",
       "      <td>0</td>\n",
       "      <td>0</td>\n",
       "      <td>0</td>\n",
       "      <td>0</td>\n",
       "    </tr>\n",
       "    <tr>\n",
       "      <th>stays_in_week_nights</th>\n",
       "      <td>0.0</td>\n",
       "      <td>0.0</td>\n",
       "      <td>1.0</td>\n",
       "      <td>1.0</td>\n",
       "      <td>2.0</td>\n",
       "    </tr>\n",
       "    <tr>\n",
       "      <th>adults</th>\n",
       "      <td>2.0</td>\n",
       "      <td>2.0</td>\n",
       "      <td>1.0</td>\n",
       "      <td>1.0</td>\n",
       "      <td>2.0</td>\n",
       "    </tr>\n",
       "    <tr>\n",
       "      <th>children</th>\n",
       "      <td>Unknown</td>\n",
       "      <td>Unknown</td>\n",
       "      <td>0.0</td>\n",
       "      <td>Unknown</td>\n",
       "      <td>Unknown</td>\n",
       "    </tr>\n",
       "    <tr>\n",
       "      <th>babies</th>\n",
       "      <td>0.0</td>\n",
       "      <td>0.0</td>\n",
       "      <td>0.0</td>\n",
       "      <td>0.0</td>\n",
       "      <td>0.0</td>\n",
       "    </tr>\n",
       "    <tr>\n",
       "      <th>meal</th>\n",
       "      <td>BB</td>\n",
       "      <td>BB</td>\n",
       "      <td>BB</td>\n",
       "      <td>BB</td>\n",
       "      <td>BB</td>\n",
       "    </tr>\n",
       "    <tr>\n",
       "      <th>country</th>\n",
       "      <td>PRT</td>\n",
       "      <td>Unknown</td>\n",
       "      <td>GBR</td>\n",
       "      <td>GBR</td>\n",
       "      <td>Unknown</td>\n",
       "    </tr>\n",
       "    <tr>\n",
       "      <th>market_segment</th>\n",
       "      <td>Unknown</td>\n",
       "      <td>Unknown</td>\n",
       "      <td>Unknown</td>\n",
       "      <td>Corporate</td>\n",
       "      <td>Online TA</td>\n",
       "    </tr>\n",
       "    <tr>\n",
       "      <th>distribution_channel</th>\n",
       "      <td>Direct</td>\n",
       "      <td>Direct</td>\n",
       "      <td>Direct</td>\n",
       "      <td>Corporate</td>\n",
       "      <td>TA/TO</td>\n",
       "    </tr>\n",
       "    <tr>\n",
       "      <th>is_repeated_guest</th>\n",
       "      <td>no</td>\n",
       "      <td>no</td>\n",
       "      <td>no</td>\n",
       "      <td>no</td>\n",
       "      <td>no</td>\n",
       "    </tr>\n",
       "    <tr>\n",
       "      <th>previous_cancellations</th>\n",
       "      <td>Unknown</td>\n",
       "      <td>0.0</td>\n",
       "      <td>0.0</td>\n",
       "      <td>0.0</td>\n",
       "      <td>0.0</td>\n",
       "    </tr>\n",
       "    <tr>\n",
       "      <th>previous_bookings_not_canceled</th>\n",
       "      <td>0.0</td>\n",
       "      <td>0.0</td>\n",
       "      <td>0.0</td>\n",
       "      <td>0.0</td>\n",
       "      <td>0.0</td>\n",
       "    </tr>\n",
       "    <tr>\n",
       "      <th>reserved_room_type</th>\n",
       "      <td>C</td>\n",
       "      <td>Unknown</td>\n",
       "      <td>A</td>\n",
       "      <td>A</td>\n",
       "      <td>A</td>\n",
       "    </tr>\n",
       "    <tr>\n",
       "      <th>assigned_room_type</th>\n",
       "      <td>C</td>\n",
       "      <td>C</td>\n",
       "      <td>C</td>\n",
       "      <td>A</td>\n",
       "      <td>A</td>\n",
       "    </tr>\n",
       "    <tr>\n",
       "      <th>booking_changes</th>\n",
       "      <td>3.0</td>\n",
       "      <td>4.0</td>\n",
       "      <td>0.0</td>\n",
       "      <td>0.0</td>\n",
       "      <td>0.0</td>\n",
       "    </tr>\n",
       "    <tr>\n",
       "      <th>agent</th>\n",
       "      <td>Unknown</td>\n",
       "      <td>Unknown</td>\n",
       "      <td>Unknown</td>\n",
       "      <td>304.0</td>\n",
       "      <td>240.0</td>\n",
       "    </tr>\n",
       "    <tr>\n",
       "      <th>days_in_waiting_list</th>\n",
       "      <td>0.0</td>\n",
       "      <td>0.0</td>\n",
       "      <td>0.0</td>\n",
       "      <td>0.0</td>\n",
       "      <td>0.0</td>\n",
       "    </tr>\n",
       "    <tr>\n",
       "      <th>customer_type</th>\n",
       "      <td>Transient</td>\n",
       "      <td>Transient</td>\n",
       "      <td>Transient</td>\n",
       "      <td>Transient</td>\n",
       "      <td>Transient</td>\n",
       "    </tr>\n",
       "    <tr>\n",
       "      <th>adr</th>\n",
       "      <td>0.0</td>\n",
       "      <td>0.0</td>\n",
       "      <td>75.0</td>\n",
       "      <td>75.0</td>\n",
       "      <td>98.0</td>\n",
       "    </tr>\n",
       "    <tr>\n",
       "      <th>required_car_parking_spaces</th>\n",
       "      <td>0.0</td>\n",
       "      <td>0.0</td>\n",
       "      <td>0.0</td>\n",
       "      <td>0.0</td>\n",
       "      <td>0.0</td>\n",
       "    </tr>\n",
       "    <tr>\n",
       "      <th>total_of_special_requests</th>\n",
       "      <td>0.0</td>\n",
       "      <td>0.0</td>\n",
       "      <td>0.0</td>\n",
       "      <td>0.0</td>\n",
       "      <td>1.0</td>\n",
       "    </tr>\n",
       "    <tr>\n",
       "      <th>reservation_status</th>\n",
       "      <td>Check-Out</td>\n",
       "      <td>Check-Out</td>\n",
       "      <td>Check-Out</td>\n",
       "      <td>Check-Out</td>\n",
       "      <td>Check-Out</td>\n",
       "    </tr>\n",
       "    <tr>\n",
       "      <th>reservation_status_date</th>\n",
       "      <td>2015-07-01 00:00:00</td>\n",
       "      <td>2015-07-01 00:00:00</td>\n",
       "      <td>2015-07-02 00:00:00</td>\n",
       "      <td>2015-07-02 00:00:00</td>\n",
       "      <td>2015-07-03 00:00:00</td>\n",
       "    </tr>\n",
       "  </tbody>\n",
       "</table>\n",
       "</div>"
      ],
      "text/plain": [
       "                                                  0                    1  \\\n",
       "hotel                                  Resort Hotel         Resort Hotel   \n",
       "is_canceled                                   False                False   \n",
       "lead_time                                     342.0                737.0   \n",
       "arrival_date_year                            2015.0              Unknown   \n",
       "arrival_date_month                             July                 July   \n",
       "arrival_date_week_number                       27.0                 27.0   \n",
       "arrival_date_day_of_month                       1.0                  1.0   \n",
       "stays_in_weekend_nights                           0                    0   \n",
       "stays_in_week_nights                            0.0                  0.0   \n",
       "adults                                          2.0                  2.0   \n",
       "children                                    Unknown              Unknown   \n",
       "babies                                          0.0                  0.0   \n",
       "meal                                             BB                   BB   \n",
       "country                                         PRT              Unknown   \n",
       "market_segment                              Unknown              Unknown   \n",
       "distribution_channel                         Direct               Direct   \n",
       "is_repeated_guest                                no                   no   \n",
       "previous_cancellations                      Unknown                  0.0   \n",
       "previous_bookings_not_canceled                  0.0                  0.0   \n",
       "reserved_room_type                                C              Unknown   \n",
       "assigned_room_type                                C                    C   \n",
       "booking_changes                                 3.0                  4.0   \n",
       "agent                                       Unknown              Unknown   \n",
       "days_in_waiting_list                            0.0                  0.0   \n",
       "customer_type                             Transient            Transient   \n",
       "adr                                             0.0                  0.0   \n",
       "required_car_parking_spaces                     0.0                  0.0   \n",
       "total_of_special_requests                       0.0                  0.0   \n",
       "reservation_status                        Check-Out            Check-Out   \n",
       "reservation_status_date         2015-07-01 00:00:00  2015-07-01 00:00:00   \n",
       "\n",
       "                                                  2                    3  \\\n",
       "hotel                                  Resort Hotel         Resort Hotel   \n",
       "is_canceled                                   False                False   \n",
       "lead_time                                       7.0                 13.0   \n",
       "arrival_date_year                            2015.0              Unknown   \n",
       "arrival_date_month                             July                 July   \n",
       "arrival_date_week_number                       27.0                 27.0   \n",
       "arrival_date_day_of_month                       1.0                  1.0   \n",
       "stays_in_weekend_nights                           0                    0   \n",
       "stays_in_week_nights                            1.0                  1.0   \n",
       "adults                                          1.0                  1.0   \n",
       "children                                        0.0              Unknown   \n",
       "babies                                          0.0                  0.0   \n",
       "meal                                             BB                   BB   \n",
       "country                                         GBR                  GBR   \n",
       "market_segment                              Unknown            Corporate   \n",
       "distribution_channel                         Direct            Corporate   \n",
       "is_repeated_guest                                no                   no   \n",
       "previous_cancellations                          0.0                  0.0   \n",
       "previous_bookings_not_canceled                  0.0                  0.0   \n",
       "reserved_room_type                                A                    A   \n",
       "assigned_room_type                                C                    A   \n",
       "booking_changes                                 0.0                  0.0   \n",
       "agent                                       Unknown                304.0   \n",
       "days_in_waiting_list                            0.0                  0.0   \n",
       "customer_type                             Transient            Transient   \n",
       "adr                                            75.0                 75.0   \n",
       "required_car_parking_spaces                     0.0                  0.0   \n",
       "total_of_special_requests                       0.0                  0.0   \n",
       "reservation_status                        Check-Out            Check-Out   \n",
       "reservation_status_date         2015-07-02 00:00:00  2015-07-02 00:00:00   \n",
       "\n",
       "                                                  4  \n",
       "hotel                                  Resort Hotel  \n",
       "is_canceled                                   False  \n",
       "lead_time                                      14.0  \n",
       "arrival_date_year                           Unknown  \n",
       "arrival_date_month                             July  \n",
       "arrival_date_week_number                    Unknown  \n",
       "arrival_date_day_of_month                       1.0  \n",
       "stays_in_weekend_nights                           0  \n",
       "stays_in_week_nights                            2.0  \n",
       "adults                                          2.0  \n",
       "children                                    Unknown  \n",
       "babies                                          0.0  \n",
       "meal                                             BB  \n",
       "country                                     Unknown  \n",
       "market_segment                            Online TA  \n",
       "distribution_channel                          TA/TO  \n",
       "is_repeated_guest                                no  \n",
       "previous_cancellations                          0.0  \n",
       "previous_bookings_not_canceled                  0.0  \n",
       "reserved_room_type                                A  \n",
       "assigned_room_type                                A  \n",
       "booking_changes                                 0.0  \n",
       "agent                                         240.0  \n",
       "days_in_waiting_list                            0.0  \n",
       "customer_type                             Transient  \n",
       "adr                                            98.0  \n",
       "required_car_parking_spaces                     0.0  \n",
       "total_of_special_requests                       1.0  \n",
       "reservation_status                        Check-Out  \n",
       "reservation_status_date         2015-07-03 00:00:00  "
      ]
     },
     "execution_count": 40,
     "metadata": {},
     "output_type": "execute_result"
    }
   ],
   "source": [
    "df.head().T"
   ]
  },
  {
   "cell_type": "code",
   "execution_count": 41,
   "metadata": {},
   "outputs": [
    {
     "data": {
      "text/plain": [
       "reservation_status_date\n",
       "Unknown                12868\n",
       "2015-10-21 00:00:00     1232\n",
       "2015-07-06 00:00:00      667\n",
       "2016-11-25 00:00:00      651\n",
       "2015-01-01 00:00:00      638\n",
       "                       ...  \n",
       "2023-04-31                 1\n",
       "2029-11-31                 1\n",
       "2025-04-31                 1\n",
       "2025-02-30                 1\n",
       "2015-04-27 00:00:00        1\n",
       "Name: count, Length: 977, dtype: int64"
      ]
     },
     "execution_count": 41,
     "metadata": {},
     "output_type": "execute_result"
    }
   ],
   "source": [
    "df[\"reservation_status_date\"].value_counts()"
   ]
  },
  {
   "cell_type": "code",
   "execution_count": 42,
   "metadata": {},
   "outputs": [],
   "source": [
    "df.to_csv(\"hotel_limpio.csv\")"
   ]
  }
 ],
 "metadata": {
  "kernelspec": {
   "display_name": "Python 3",
   "language": "python",
   "name": "python3"
  },
  "language_info": {
   "codemirror_mode": {
    "name": "ipython",
    "version": 3
   },
   "file_extension": ".py",
   "mimetype": "text/x-python",
   "name": "python",
   "nbconvert_exporter": "python",
   "pygments_lexer": "ipython3",
   "version": "3.11.5"
  }
 },
 "nbformat": 4,
 "nbformat_minor": 2
}
